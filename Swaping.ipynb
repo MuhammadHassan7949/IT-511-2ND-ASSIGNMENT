{
 "cells": [
  {
   "cell_type": "code",
   "execution_count": 1,
   "id": "decce2dc",
   "metadata": {},
   "outputs": [
    {
     "name": "stdout",
     "output_type": "stream",
     "text": [
      "without swap a= Hasaan b= Muhammad\n",
      "a= Muhammad b= Hasaan\n"
     ]
    }
   ],
   "source": [
    "a = ('Hasaan')\n",
    "b = ('Muhammad')\n",
    "\n",
    "print ('without swap','a=',a,'b=',b)\n",
    "\n",
    "#After swaping \n",
    "a, b = b, a\n",
    "print('a=',a,'b=',b)\n",
    "\n"
   ]
  },
  {
   "cell_type": "code",
   "execution_count": null,
   "id": "d5124376",
   "metadata": {},
   "outputs": [],
   "source": []
  }
 ],
 "metadata": {
  "kernelspec": {
   "display_name": "Python 3 (ipykernel)",
   "language": "python",
   "name": "python3"
  },
  "language_info": {
   "codemirror_mode": {
    "name": "ipython",
    "version": 3
   },
   "file_extension": ".py",
   "mimetype": "text/x-python",
   "name": "python",
   "nbconvert_exporter": "python",
   "pygments_lexer": "ipython3",
   "version": "3.11.4"
  }
 },
 "nbformat": 4,
 "nbformat_minor": 5
}
