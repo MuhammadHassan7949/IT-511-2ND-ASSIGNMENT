{
 "cells": [
  {
   "cell_type": "code",
   "execution_count": 3,
   "id": "30297a4b",
   "metadata": {},
   "outputs": [
    {
     "name": "stdout",
     "output_type": "stream",
     "text": [
      "BEFORE -1\n",
      "65 15\n",
      "AFTER 65\n"
     ]
    }
   ],
   "source": [
    "largest_so_far=-1\n",
    "print('BEFORE',largest_so_far)\n",
    "for the_num in [2,65,56,7,29,15]:\n",
    "    if the_num > largest_so_far :\n",
    "        largest_so_far = the_num\n",
    "print (largest_so_far,the_num)\n",
    "print('AFTER',largest_so_far)"
   ]
  },
  {
   "cell_type": "code",
   "execution_count": null,
   "id": "858a1e81",
   "metadata": {},
   "outputs": [],
   "source": []
  }
 ],
 "metadata": {
  "kernelspec": {
   "display_name": "Python 3 (ipykernel)",
   "language": "python",
   "name": "python3"
  },
  "language_info": {
   "codemirror_mode": {
    "name": "ipython",
    "version": 3
   },
   "file_extension": ".py",
   "mimetype": "text/x-python",
   "name": "python",
   "nbconvert_exporter": "python",
   "pygments_lexer": "ipython3",
   "version": "3.11.4"
  }
 },
 "nbformat": 4,
 "nbformat_minor": 5
}
