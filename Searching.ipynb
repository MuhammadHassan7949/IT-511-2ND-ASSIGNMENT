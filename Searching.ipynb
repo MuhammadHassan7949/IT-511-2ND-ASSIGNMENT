{
 "cells": [
  {
   "cell_type": "code",
   "execution_count": 1,
   "id": "31cd0d96",
   "metadata": {},
   "outputs": [
    {
     "name": "stdout",
     "output_type": "stream",
     "text": [
      "The word 'moanum' appears 2 times in the paragraph.\n",
      "'moanum' is found in the paragraph.\n"
     ]
    }
   ],
   "source": [
    "paragraph = \"Friendship is a beautiful and invaluable aspect of our lives. It is the bond that we choose to create with someone who becomes a significant part of our journey. Among the friends I've made throughout my life, Moanum holds a special place in my heart as my best friend. Moanum and I share a unique and unbreakable connection, and in this essay, I will describe his qualities, our friendship, and why he is my best friend.\"\n",
    "\n",
    "search_word = \"moanum\"\n",
    "\n",
    "# for case-insensitive search\n",
    "paragraph = paragraph.lower()\n",
    "search_word = search_word.lower()\n",
    "\n",
    "word_count = paragraph.count(search_word)\n",
    "\n",
    "word_found = search_word in paragraph\n",
    "\n",
    "print(f\"The word '{search_word}' appears {word_count} times in the paragraph.\")\n",
    "if word_found:\n",
    "    print(f\"'{search_word}' is found in the paragraph.\")\n",
    "else:\n",
    "    print(f\"'{search_word}' is not found in the paragraph.\")"
   ]
  },
  {
   "cell_type": "code",
   "execution_count": null,
   "id": "a3234b34",
   "metadata": {},
   "outputs": [],
   "source": []
  }
 ],
 "metadata": {
  "kernelspec": {
   "display_name": "Python 3 (ipykernel)",
   "language": "python",
   "name": "python3"
  },
  "language_info": {
   "codemirror_mode": {
    "name": "ipython",
    "version": 3
   },
   "file_extension": ".py",
   "mimetype": "text/x-python",
   "name": "python",
   "nbconvert_exporter": "python",
   "pygments_lexer": "ipython3",
   "version": "3.11.4"
  }
 },
 "nbformat": 4,
 "nbformat_minor": 5
}
