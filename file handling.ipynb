{
 "cells": [
  {
   "cell_type": "code",
   "execution_count": 1,
   "id": "f860c562",
   "metadata": {},
   "outputs": [
    {
     "name": "stdout",
     "output_type": "stream",
     "text": [
      "Contents of the file:\n",
      "Hello, World!\n",
      "This is a sample file.\n",
      "\n"
     ]
    }
   ],
   "source": [
    "file_name = \"assignment.txt\"\n",
    "\n",
    "with open(file_name, 'w') as file:\n",
    "    file.write(\"Hello, World!\\n\")\n",
    "    file.write(\"This is a sample file.\\n\")\n",
    "\n",
    "with open(file_name, 'r') as file:\n",
    "    content = file.read()\n",
    "    print(\"Contents of the file:\")\n",
    "    print(content)"
   ]
  },
  {
   "cell_type": "code",
   "execution_count": null,
   "id": "5801c85d",
   "metadata": {},
   "outputs": [],
   "source": []
  }
 ],
 "metadata": {
  "kernelspec": {
   "display_name": "Python 3 (ipykernel)",
   "language": "python",
   "name": "python3"
  },
  "language_info": {
   "codemirror_mode": {
    "name": "ipython",
    "version": 3
   },
   "file_extension": ".py",
   "mimetype": "text/x-python",
   "name": "python",
   "nbconvert_exporter": "python",
   "pygments_lexer": "ipython3",
   "version": "3.11.4"
  }
 },
 "nbformat": 4,
 "nbformat_minor": 5
}
