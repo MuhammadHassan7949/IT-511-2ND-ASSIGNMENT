{
 "cells": [
  {
   "cell_type": "code",
   "execution_count": 1,
   "id": "4f65c0f1",
   "metadata": {},
   "outputs": [
    {
     "name": "stdout",
     "output_type": "stream",
     "text": [
      "Input 1st Num19\n",
      "Input 2nd Num11\n",
      "THE AVG OF A AND B IS  0.0\n"
     ]
    }
   ],
   "source": [
    "a = input('Input 1st Num')\n",
    "b = input('Input 2nd Num')\n",
    "a = int ()\n",
    "b = int ()\n",
    "avg = (a+b)/2\n",
    "\n",
    "print('THE AVG OF A AND B IS ',avg)"
   ]
  },
  {
   "cell_type": "code",
   "execution_count": null,
   "id": "85c13794",
   "metadata": {},
   "outputs": [],
   "source": []
  },
  {
   "cell_type": "code",
   "execution_count": null,
   "id": "d93cf807",
   "metadata": {},
   "outputs": [],
   "source": []
  }
 ],
 "metadata": {
  "kernelspec": {
   "display_name": "Python 3 (ipykernel)",
   "language": "python",
   "name": "python3"
  },
  "language_info": {
   "codemirror_mode": {
    "name": "ipython",
    "version": 3
   },
   "file_extension": ".py",
   "mimetype": "text/x-python",
   "name": "python",
   "nbconvert_exporter": "python",
   "pygments_lexer": "ipython3",
   "version": "3.11.4"
  }
 },
 "nbformat": 4,
 "nbformat_minor": 5
}
